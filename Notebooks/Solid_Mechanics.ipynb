{
 "cells": [
  {
   "cell_type": "code",
   "execution_count": 1,
   "id": "greatest-tender",
   "metadata": {},
   "outputs": [],
   "source": [
    "import math"
   ]
  },
  {
   "cell_type": "code",
   "execution_count": 278,
   "id": "entitled-delight",
   "metadata": {},
   "outputs": [],
   "source": [
    "# Pure shape construction class:\n",
    "class pure_shape(object):\n",
    "    def __init__(self, shape, kwargs, pos_shape=1):\n",
    "        self.pos_shape = pos_shape\n",
    "        self.shape = shape\n",
    "        if shape == \"rectangle\":\n",
    "            self.b = kwargs['b']\n",
    "            self.h = kwargs['h']\n",
    "            self.coords = kwargs['coords']\n",
    "        self.centroid = pure_shape.computeCentroid(self)\n",
    "        self.areaMoments = pure_shape.computeAreaMoments(self)\n",
    "        self.area = pure_shape.computeArea(self)\n",
    "        self.areaProduct = pure_shape.computeAreaProduct(self)\n",
    "        self.principleAngle = pure_shape.computePrincipleAngle(self)\n",
    "        \n",
    "    def getCentroid(self):\n",
    "        return self.centroid\n",
    "    \n",
    "    def computeCentroid(self):\n",
    "        if self.shape == \"rectangle\":\n",
    "            x = self.coords[0][0] + 0.5*self.b\n",
    "            y = self.coords[0][1] + 0.5*self.h\n",
    "        return (x, y)\n",
    "    \n",
    "    def getArea(self):\n",
    "        return self.area\n",
    "    \n",
    "    def computeArea(self):\n",
    "        if self.shape == \"rectangle\":\n",
    "            area = self.b*self.h\n",
    "        return area*self.pos_shape\n",
    "    \n",
    "    def getAreaMoments(self):\n",
    "        return self.areaMoments\n",
    "    \n",
    "    def computeAreaMoments(self):\n",
    "        areaMoments = {'Ix': 0, 'Iy': 0}\n",
    "        if self.shape == \"rectangle\":\n",
    "            areaMoments['Ix'] = self.b*(self.h)**3/12\n",
    "            areaMoments['Iy'] = self.h*(self.b)**3/12\n",
    "        \n",
    "        areaMoments['Jo'] = areaMoments['Ix'] + areaMoments['Iy']\n",
    "        return areaMoments\n",
    "    \n",
    "    def getAreaProduct(self):\n",
    "        return self.areaProduct\n",
    "    \n",
    "    def computeAreaProduct(self):\n",
    "        if self.shape == \"rectangle\":\n",
    "            return 0\n",
    "    \n",
    "    def getParams(self):\n",
    "        params = {}\n",
    "        if self.shape == \"rectangle\":\n",
    "            params['b'] = self.b\n",
    "            params['h'] = self.h\n",
    "        return params\n",
    "\n",
    "    def parallelAxisThmForAreaMoment(self, shift_coords):\n",
    "        y_dist = abs(self.centroid[1]-shift_coords[1])\n",
    "        x_dist = abs(self.centroid[0]-shift_coords[0])\n",
    "        shift_x = self.areaMoments['Ix'] + self.area*(y_dist)**2\n",
    "        shift_y = self.areaMoments['Iy'] + self.area*(x_dist)**2\n",
    "        shift_o = self.areaMoments['Jo'] + self.area*(pure_shape.pythag(x_dist, y_dist))**2\n",
    "        return {'Ix': shift_x, 'Iy': shift_y, 'Jo': shift_o}\n",
    "    \n",
    "    def parallelAxisThmForAreaProduct(self, shift_coords):\n",
    "        y_delta = shift_coords[1]-self.centroid[1]\n",
    "        x_delta = shift_coords[0]-self.centroid[0]\n",
    "        return self.areaProduct + self.area*x_delta*y_delta\n",
    "    \n",
    "    def inclinedAxis(self, theta):\n",
    "        Ix = self.areaMoments['Ix']\n",
    "        Iy = self.areaMoments['Iy']\n",
    "        Ixy = self.areaProduct\n",
    "        \n",
    "        newMomentsAndProd = {}\n",
    "        ave = (Ix + Iy)/2\n",
    "        ave_diff = (Ix - Iy)/2\n",
    "        g = ave_diff*math.cos(2*theta)\n",
    "        h = Ixy*math.sin(2*theta)\n",
    "        \n",
    "        newMomentsAndProd['Ix'] = ave + g - h\n",
    "        newMomentsAndProd['Iy'] = ave - g + h\n",
    "        if abs(theta - self.principleAngle) < 1e-5:\n",
    "            newMomentsAndProd['Ixy'] = 0\n",
    "        else:\n",
    "            newMomentsAndProd['Ixy'] = ave_diff*math.sin(2*theta) + Ixy*math.cos(2*theta)\n",
    "        \n",
    "        return newMomentsAndProd\n",
    "    \n",
    "    def getPrincipleAngle(self):\n",
    "        return self.principleAngle\n",
    "    \n",
    "    def computePrincipleAngle(self):\n",
    "        areaMoments = self.areaMoments\n",
    "        if areaMoments['Ix'] == areaMoments['Iy']:\n",
    "            return 0\n",
    "        else:\n",
    "            return 0.5*math.atan(-self.areaProduct*2/(areaMoments['Ix']-areaMoments['Iy']))\n",
    "    \n",
    "    # Functional methods:\n",
    "    \n",
    "    def pythag(*args):\n",
    "        sum = 0\n",
    "        for el in args:\n",
    "            sum += el**2\n",
    "        return math.sqrt(sum)\n",
    "    \n",
    "    def __str__(self):\n",
    "        output = f\"{self.shape} at {self.coords} with \"\n",
    "        if self.shape == \"rectangle\":\n",
    "            output += f\"b = {self.b}, h = {self.h}\"\n",
    "        return output + f\" area = {self.area}\"\n",
    "\n",
    "\n",
    "\n",
    "# Composite shape construction class:\n",
    "class composite_shape(pure_shape):\n",
    "    def __init__(self, *args):\n",
    "        self.component_shapes = args\n",
    "        self.centroid = composite_shape.computeCentroid(self, *args)\n",
    "        self.area = composite_shape.computeArea(self, *args)\n",
    "        self.areaMoments = composite_shape.computeAreaMoments(self, *args)\n",
    "        self.areaProduct = composite_shape.computeAreaProduct(self, *args)\n",
    "        self.principleAngle = super().computePrincipleAngle()\n",
    "        \n",
    "    def computeCentroid(self, *args):\n",
    "        xsum, ysum, asum = 0, 0, 0\n",
    "        for shape in args:\n",
    "            a = shape.getArea()\n",
    "            x, y = shape.getCentroid()\n",
    "            xsum += a*x\n",
    "            ysum += a*y\n",
    "            asum += a\n",
    "        return (xsum/asum, ysum/asum)\n",
    "    \n",
    "    def computeArea(self, *args):\n",
    "        area = 0\n",
    "        for shape in args:\n",
    "            area += shape.getArea()\n",
    "        return area\n",
    "    \n",
    "    def computeAreaMoments(self, *args):\n",
    "        Ix, Iy = 0, 0\n",
    "        shift_coords = self.centroid\n",
    "        for shape in args:\n",
    "            shifted_shape = shape.parallelAxisThmForAreaMoment(shift_coords)\n",
    "            Ix += shifted_shape['Ix']\n",
    "            Iy += shifted_shape['Iy']\n",
    "        areaMoments = {}\n",
    "        areaMoments['Ix'] = Ix\n",
    "        areaMoments['Iy'] = Iy\n",
    "        areaMoments['Jo'] = Ix + Iy\n",
    "        return areaMoments\n",
    "    \n",
    "    def computeAreaProduct(self, *args):\n",
    "        Ixy = 0\n",
    "        shift_coords = self.centroid\n",
    "        for shape in args:\n",
    "            Ixy += shape.parallelAxisThmForAreaProduct(shift_coords)\n",
    "        return Ixy\n",
    "    \n",
    "    \n",
    "    def getComponentShapes(self):\n",
    "        return self.component_shapes"
   ]
  },
  {
   "cell_type": "code",
   "execution_count": 279,
   "id": "adaptive-processing",
   "metadata": {},
   "outputs": [
    {
     "name": "stdout",
     "output_type": "stream",
     "text": [
      "rectangle at ((0, 0), (20, 100)) with b = 20, h = 100 area = 2000\n",
      "{'b': 20, 'h': 100}\n",
      "(10.0, 50.0)\n",
      "(10.0, 50.0)\n",
      "\n",
      "{'Ix': 1666666.6666666667, 'Iy': 66666.66666666667, 'Jo': 1733333.3333333335}\n",
      "2000\n",
      "\n",
      "{'Ix': 2916666.666666667, 'Iy': 516666.6666666667, 'Jo': 3433333.3333333335}\n",
      "0\n",
      "\n",
      "-750000.0\n"
     ]
    }
   ],
   "source": [
    "kwargs = {'b': 20,\n",
    "          'h': 100,\n",
    "          'coords': ((0,0), (20,100))}\n",
    "rect1 = pure_shape(\"rectangle\", kwargs)\n",
    "print(rect1)\n",
    "print(rect1.getParams())\n",
    "print(rect1.computeCentroid())\n",
    "print(rect1.getCentroid())\n",
    "print(\"\")\n",
    "print(rect1.getAreaMoments())\n",
    "print(rect1.getArea())\n",
    "print(\"\")\n",
    "print(rect1.parallelAxisThmForAreaMoment((25, 25)))\n",
    "print(rect1.getAreaProduct())\n",
    "print(\"\")\n",
    "print(rect1.parallelAxisThmForAreaProduct((25, 25)))"
   ]
  },
  {
   "cell_type": "code",
   "execution_count": 280,
   "id": "described-carrier",
   "metadata": {},
   "outputs": [
    {
     "name": "stdout",
     "output_type": "stream",
     "text": [
      "rectangle at ((0, 0), (20, 100)) with b = 20, h = 100 area = 2000\n",
      "rectangle at ((20, 80), (80, 100)) with b = 60, h = 20 area = 1200\n"
     ]
    }
   ],
   "source": [
    "kwargs1 = {'b': 20,\n",
    "          'h': 100,\n",
    "          'coords': ((0,0), (20,100))}\n",
    "rect1 = pure_shape(\"rectangle\", kwargs1)\n",
    "print(rect1)\n",
    "\n",
    "kwargs2 = {'b': 60,\n",
    "          'h': 20,\n",
    "          'coords': ((20,80), (80,100))}\n",
    "rect2 = pure_shape(\"rectangle\", kwargs2)\n",
    "print(rect2)"
   ]
  },
  {
   "cell_type": "code",
   "execution_count": 281,
   "id": "coordinate-anthony",
   "metadata": {},
   "outputs": [
    {
     "name": "stdout",
     "output_type": "stream",
     "text": [
      "(25.0, 65.0)\n",
      "3200\n",
      "{'Ix': 2906666.666666667, 'Iy': 1626666.6666666667, 'Jo': 4533333.333333334}\n"
     ]
    }
   ],
   "source": [
    "comp1 = composite_shape(rect1, rect2)\n",
    "print(comp1.getCentroid())\n",
    "print(comp1.getArea())\n",
    "print(comp1.getAreaMoments())"
   ]
  },
  {
   "cell_type": "code",
   "execution_count": 282,
   "id": "limited-symposium",
   "metadata": {},
   "outputs": [
    {
     "name": "stdout",
     "output_type": "stream",
     "text": [
      "Ix = 2.907e6 mm^4, Iy = 1.627e6 mm^4\n"
     ]
    }
   ],
   "source": [
    "areaMoments = comp1.getAreaMoments()\n",
    "Ix = round(areaMoments['Ix']/1e6, 3)\n",
    "Iy = round(areaMoments['Iy']/1e6, 3)\n",
    "print(f\"Ix = {Ix}e6 mm^4, Iy = {Iy}e6 mm^4\")"
   ]
  },
  {
   "cell_type": "code",
   "execution_count": 283,
   "id": "welcome-prototype",
   "metadata": {},
   "outputs": [
    {
     "name": "stdout",
     "output_type": "stream",
     "text": [
      "Ixy = 1.2e6 mm^4\n"
     ]
    }
   ],
   "source": [
    "Ixy = comp1.getAreaProduct()\n",
    "print(f\"Ixy = {round(Ixy/1e6, 3)}e6 mm^4\")"
   ]
  },
  {
   "cell_type": "code",
   "execution_count": null,
   "id": "thrown-lobby",
   "metadata": {},
   "outputs": [],
   "source": []
  },
  {
   "cell_type": "code",
   "execution_count": null,
   "id": "working-destiny",
   "metadata": {},
   "outputs": [],
   "source": []
  },
  {
   "cell_type": "code",
   "execution_count": 284,
   "id": "caroline-cyprus",
   "metadata": {},
   "outputs": [
    {
     "name": "stdout",
     "output_type": "stream",
     "text": [
      "θp = -0.540419500270584\n",
      "{'Ix': 3626666.666666667, 'Iy': 906666.666666667, 'Ixy': 0}\n"
     ]
    }
   ],
   "source": [
    "# Q1 Tut 0\n",
    "kw1 = {'b': 20,'h': 100,'coords': ((0,0), (20,100))}\n",
    "rect1 = pure_shape(\"rectangle\", kw1)\n",
    "kw2 = {'b': 60,'h': 20,'coords': ((20,80), (80,100))}\n",
    "rect2 = pure_shape(\"rectangle\", kw2)\n",
    "\n",
    "compQ1 = composite_shape(rect1, rect2)\n",
    "theta_p = compQ1.getPrincipleAngle()\n",
    "print(f\"θp = {theta_p}\")\n",
    "print(compQ1.inclinedAxis(theta_p))"
   ]
  },
  {
   "cell_type": "code",
   "execution_count": 285,
   "id": "sticky-pasta",
   "metadata": {},
   "outputs": [
    {
     "name": "stdout",
     "output_type": "stream",
     "text": [
      "{'Ix': 616666.6666666666, 'Iy': 3866666.666666666, 'Jo': 4483333.333333333}\n",
      "-1.1\n"
     ]
    }
   ],
   "source": [
    "# Q2 Tut 0\n",
    "kw1 = {'b': 120, 'h': 10, 'coords': ((0, 0), (120, 10))}\n",
    "kw2 = {'b': 10, 'h': 40, 'coords': ((0, 10), (10, 50))}\n",
    "kw3 = {'b': 10, 'h': 40, 'coords': ((110, -40), (120, 0))}\n",
    "kw = (kw1, kw2, kw3)\n",
    "shapes = []\n",
    "for k in kw:\n",
    "    shapes.append(pure_shape(\"rectangle\", k))\n",
    "\n",
    "comp = composite_shape(*shapes)\n",
    "areaMoments = comp.getAreaMoments()\n",
    "print(areaMoments)\n",
    "print(comp.getAreaProduct()/1e6)"
   ]
  },
  {
   "cell_type": "code",
   "execution_count": 286,
   "id": "objective-queen",
   "metadata": {},
   "outputs": [
    {
     "name": "stdout",
     "output_type": "stream",
     "text": [
      "(140.0, 100.0) 1.0666666666666667 26.666666666666668\n",
      "(20.0, 100.0) 26.666666666666668 1.0666666666666667\n",
      "\n",
      "centroid @ (80.0, 100.0)\n",
      "{'Ix': 27733333.333333336, 'Iy': 142933333.33333334, 'Jo': 170666666.6666667}\n",
      "0.0\n",
      "85.33333333333334\n",
      "\n",
      "areaProd@(0, 100) = 0.0\n"
     ]
    }
   ],
   "source": [
    "# Q3 Tut 0\n",
    "kw1 = {'b': 200, 'h': 40, 'coords': ((40, 80), (240, 120))}\n",
    "kw2 = {'b': 40, 'h': 200, 'coords': ((0, 0), (40, 200))}\n",
    "#kw3 = {'b': 80, 'h': 40, 'coords': ((40, 120), (0, 40))}\n",
    "kw = (kw1, kw2)#, kw3)\n",
    "shapes = []\n",
    "for k in kw:\n",
    "    shapes.append(pure_shape(\"rectangle\", k))\n",
    "    aM = shapes[-1].getAreaMoments()\n",
    "    print(shapes[-1].getCentroid(), aM['Ix']/1e6, aM['Iy']/1e6)\n",
    "\n",
    "print()\n",
    "\n",
    "shift_coords = (20, 100)\n",
    "comp = composite_shape(*shapes)\n",
    "print(f\"centroid @ {comp.getCentroid()}\")\n",
    "areaMoments = comp.parallelAxisThmForAreaMoment(shift_coords)\n",
    "print(areaMoments)\n",
    "print(comp.getAreaProduct()/1e6)\n",
    "\n",
    "print(0.5*(areaMoments['Ix'] + areaMoments['Iy'])/1e6)\n",
    "\n",
    "new_coords = (0, 100)\n",
    "print(f\"\\nareaProd@{new_coords} = {comp.parallelAxisThmForAreaProduct(new_coords)}\")"
   ]
  },
  {
   "cell_type": "code",
   "execution_count": 289,
   "id": "english-pregnancy",
   "metadata": {},
   "outputs": [
    {
     "name": "stdout",
     "output_type": "stream",
     "text": [
      "{'Ix': 77909333.33333334, 'Iy': 30037333.333333332, 'Jo': 107946666.66666667}\n",
      "Ixy = 10.752\n",
      "θp = -0.21109333322274648 rad (-12.09 deg)\n",
      "Ix = 80.21333333333334, Iy = 27.73333333333333\n"
     ]
    }
   ],
   "source": [
    "#Q4 Tut 0\n",
    "kw1 = {'b': 120, 'h': 40, 'coords': ((40, 160), (160, 200))}\n",
    "kw2 = {'b': 40, 'h': 200, 'coords': ((0, 0), (40, 200))}\n",
    "kw3 = {'b': 80, 'h': 40, 'coords': ((40, 0), (120, 40))}\n",
    "kw = (kw1, kw2, kw3)\n",
    "\n",
    "shapes = []\n",
    "for k in kw:\n",
    "    shapes.append(pure_shape(\"rectangle\", k))\n",
    "\n",
    "comp = composite_shape(*shapes)\n",
    "print(comp.getAreaMoments())\n",
    "print(\"Ixy =\", comp.getAreaProduct()/1e6)\n",
    "theta_p = comp.getPrincipleAngle()\n",
    "print(f\"θp = {theta_p} rad ({round(theta_p*180/math.pi, 2)} deg)\")\n",
    "areaMoments = comp.inclinedAxis(theta_p)\n",
    "print(f\"Ix = {areaMoments['Ix']/1e6}, Iy = {areaMoments['Iy']/1e6}\")"
   ]
  },
  {
   "cell_type": "code",
   "execution_count": null,
   "id": "aware-rouge",
   "metadata": {},
   "outputs": [],
   "source": []
  }
 ],
 "metadata": {
  "kernelspec": {
   "display_name": "Python 3",
   "language": "python",
   "name": "python3"
  },
  "language_info": {
   "codemirror_mode": {
    "name": "ipython",
    "version": 3
   },
   "file_extension": ".py",
   "mimetype": "text/x-python",
   "name": "python",
   "nbconvert_exporter": "python",
   "pygments_lexer": "ipython3",
   "version": "3.8.5"
  }
 },
 "nbformat": 4,
 "nbformat_minor": 5
}

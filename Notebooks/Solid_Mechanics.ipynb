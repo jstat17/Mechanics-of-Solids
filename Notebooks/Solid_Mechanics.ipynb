{
 "cells": [
  {
   "cell_type": "code",
   "execution_count": 2,
   "id": "analyzed-giving",
   "metadata": {},
   "outputs": [],
   "source": [
    "import math\n",
    "import numpy as np"
   ]
  },
  {
   "cell_type": "markdown",
   "id": "taken-positive",
   "metadata": {},
   "source": [
    "## Mechanical properties of objects/shapes"
   ]
  },
  {
   "cell_type": "code",
   "execution_count": 3,
   "id": "adolescent-stockholm",
   "metadata": {},
   "outputs": [],
   "source": [
    "# Pure shape construction class:\n",
    "class pure_shape(object):\n",
    "    def __init__(self, shape, kwargs, pos_shape=1):\n",
    "        self.pos_shape = pos_shape\n",
    "        self.shape = shape\n",
    "        if shape == \"rectangle\":\n",
    "            self.b = kwargs['b']\n",
    "            self.h = kwargs['h']\n",
    "            self.coords = kwargs['coords']\n",
    "        self.centroid = pure_shape.computeCentroid(self)\n",
    "        self.areaMoments = pure_shape.computeAreaMoments(self)\n",
    "        self.area = pure_shape.computeArea(self)\n",
    "        self.areaProduct = pure_shape.computeAreaProduct(self)\n",
    "        self.principleAngle = pure_shape.computePrincipleAngle(self)\n",
    "        \n",
    "    def getCentroid(self):\n",
    "        return self.centroid\n",
    "    \n",
    "    def computeCentroid(self):\n",
    "        if self.shape == \"rectangle\":\n",
    "            x = self.coords[0][0] + 0.5*self.b\n",
    "            y = self.coords[0][1] + 0.5*self.h\n",
    "        return (x, y)\n",
    "    \n",
    "    def getArea(self):\n",
    "        return self.area\n",
    "    \n",
    "    def computeArea(self):\n",
    "        if self.shape == \"rectangle\":\n",
    "            area = self.b*self.h\n",
    "        return area*self.pos_shape\n",
    "    \n",
    "    def getAreaMoments(self):\n",
    "        return self.areaMoments\n",
    "    \n",
    "    def computeAreaMoments(self):\n",
    "        areaMoments = {'Ix': 0, 'Iy': 0}\n",
    "        if self.shape == \"rectangle\":\n",
    "            areaMoments['Ix'] = self.b*(self.h)**3/12\n",
    "            areaMoments['Iy'] = self.h*(self.b)**3/12\n",
    "        \n",
    "        areaMoments['Jo'] = areaMoments['Ix'] + areaMoments['Iy']\n",
    "        return areaMoments\n",
    "    \n",
    "    def getAreaProduct(self):\n",
    "        return self.areaProduct\n",
    "    \n",
    "    def computeAreaProduct(self):\n",
    "        if self.shape == \"rectangle\":\n",
    "            return 0\n",
    "    \n",
    "    def getParams(self):\n",
    "        params = {}\n",
    "        if self.shape == \"rectangle\":\n",
    "            params['b'] = self.b\n",
    "            params['h'] = self.h\n",
    "        return params\n",
    "\n",
    "    def parallelAxisThmForAreaMoment(self, shift_coords):\n",
    "        y_dist = abs(self.centroid[1]-shift_coords[1])\n",
    "        x_dist = abs(self.centroid[0]-shift_coords[0])\n",
    "        shift_x = self.areaMoments['Ix'] + self.area*(y_dist)**2\n",
    "        shift_y = self.areaMoments['Iy'] + self.area*(x_dist)**2\n",
    "        shift_o = self.areaMoments['Jo'] + self.area*(pure_shape.pythag(x_dist, y_dist))**2\n",
    "        return {'Ix': shift_x, 'Iy': shift_y, 'Jo': shift_o}\n",
    "    \n",
    "    def parallelAxisThmForAreaProduct(self, shift_coords):\n",
    "        y_delta = shift_coords[1]-self.centroid[1]\n",
    "        x_delta = shift_coords[0]-self.centroid[0]\n",
    "        return self.areaProduct + self.area*x_delta*y_delta\n",
    "    \n",
    "    def inclinedAxis(self, theta):\n",
    "        Ix = self.areaMoments['Ix']\n",
    "        Iy = self.areaMoments['Iy']\n",
    "        Ixy = self.areaProduct\n",
    "        \n",
    "        newMomentsAndProd = {}\n",
    "        ave = (Ix + Iy)/2\n",
    "        ave_diff = (Ix - Iy)/2\n",
    "        g = ave_diff*math.cos(2*theta)\n",
    "        h = Ixy*math.sin(2*theta)\n",
    "        \n",
    "        newMomentsAndProd['Ix'] = ave + g - h\n",
    "        newMomentsAndProd['Iy'] = ave - g + h\n",
    "        if abs(theta - self.principleAngle) < 1e-5:\n",
    "            newMomentsAndProd['Ixy'] = 0\n",
    "        else:\n",
    "            newMomentsAndProd['Ixy'] = ave_diff*math.sin(2*theta) + Ixy*math.cos(2*theta)\n",
    "        \n",
    "        return newMomentsAndProd\n",
    "    \n",
    "    def getPrincipleAngle(self):\n",
    "        return self.principleAngle\n",
    "    \n",
    "    def computePrincipleAngle(self):\n",
    "        areaMoments = self.areaMoments\n",
    "        if areaMoments['Ix'] == areaMoments['Iy']:\n",
    "            return 0\n",
    "        else:\n",
    "            return 0.5*math.atan(-self.areaProduct*2/(areaMoments['Ix']-areaMoments['Iy']))\n",
    "    \n",
    "    # Functional methods:\n",
    "    \n",
    "    def pythag(*args):\n",
    "        sum = 0\n",
    "        for el in args:\n",
    "            sum += el**2\n",
    "        return math.sqrt(sum)\n",
    "    \n",
    "    def __str__(self):\n",
    "        output = f\"{self.shape} at {self.coords} with \"\n",
    "        if self.shape == \"rectangle\":\n",
    "            output += f\"b = {self.b}, h = {self.h}\"\n",
    "        return output + f\" area = {self.area}\"\n",
    "\n",
    "\n",
    "\n",
    "# Composite shape construction class:\n",
    "class composite_shape(pure_shape):\n",
    "    def __init__(self, *args):\n",
    "        self.component_shapes = args\n",
    "        self.centroid = composite_shape.computeCentroid(self, *args)\n",
    "        self.area = composite_shape.computeArea(self, *args)\n",
    "        self.areaMoments = composite_shape.computeAreaMoments(self, *args)\n",
    "        self.areaProduct = composite_shape.computeAreaProduct(self, *args)\n",
    "        self.principleAngle = super().computePrincipleAngle()\n",
    "        \n",
    "    def computeCentroid(self, *args):\n",
    "        xsum, ysum, asum = 0, 0, 0\n",
    "        for shape in args:\n",
    "            a = shape.getArea()\n",
    "            x, y = shape.getCentroid()\n",
    "            xsum += a*x\n",
    "            ysum += a*y\n",
    "            asum += a\n",
    "        return (xsum/asum, ysum/asum)\n",
    "    \n",
    "    def computeArea(self, *args):\n",
    "        area = 0\n",
    "        for shape in args:\n",
    "            area += shape.getArea()\n",
    "        return area\n",
    "    \n",
    "    def computeAreaMoments(self, *args):\n",
    "        Ix, Iy = 0, 0\n",
    "        shift_coords = self.centroid\n",
    "        for shape in args:\n",
    "            shifted_shape = shape.parallelAxisThmForAreaMoment(shift_coords)\n",
    "            Ix += shifted_shape['Ix']\n",
    "            Iy += shifted_shape['Iy']\n",
    "        areaMoments = {}\n",
    "        areaMoments['Ix'] = Ix\n",
    "        areaMoments['Iy'] = Iy\n",
    "        areaMoments['Jo'] = Ix + Iy\n",
    "        return areaMoments\n",
    "    \n",
    "    def computeAreaProduct(self, *args):\n",
    "        Ixy = 0\n",
    "        shift_coords = self.centroid\n",
    "        for shape in args:\n",
    "            Ixy += shape.parallelAxisThmForAreaProduct(shift_coords)\n",
    "        return Ixy\n",
    "    \n",
    "    \n",
    "    def getComponentShapes(self):\n",
    "        return self.component_shapes"
   ]
  },
  {
   "cell_type": "code",
   "execution_count": 4,
   "id": "daily-specific",
   "metadata": {},
   "outputs": [
    {
     "name": "stdout",
     "output_type": "stream",
     "text": [
      "rectangle at ((0, 0), (20, 100)) with b = 20, h = 100 area = 2000\n",
      "{'b': 20, 'h': 100}\n",
      "(10.0, 50.0)\n",
      "(10.0, 50.0)\n",
      "\n",
      "{'Ix': 1666666.6666666667, 'Iy': 66666.66666666667, 'Jo': 1733333.3333333335}\n",
      "2000\n",
      "\n",
      "{'Ix': 2916666.666666667, 'Iy': 516666.6666666667, 'Jo': 3433333.3333333335}\n",
      "0\n",
      "\n",
      "-750000.0\n"
     ]
    }
   ],
   "source": [
    "kwargs = {'b': 20,\n",
    "          'h': 100,\n",
    "          'coords': ((0,0), (20,100))}\n",
    "rect1 = pure_shape(\"rectangle\", kwargs)\n",
    "print(rect1)\n",
    "print(rect1.getParams())\n",
    "print(rect1.computeCentroid())\n",
    "print(rect1.getCentroid())\n",
    "print(\"\")\n",
    "print(rect1.getAreaMoments())\n",
    "print(rect1.getArea())\n",
    "print(\"\")\n",
    "print(rect1.parallelAxisThmForAreaMoment((25, 25)))\n",
    "print(rect1.getAreaProduct())\n",
    "print(\"\")\n",
    "print(rect1.parallelAxisThmForAreaProduct((25, 25)))"
   ]
  },
  {
   "cell_type": "code",
   "execution_count": 5,
   "id": "chronic-night",
   "metadata": {},
   "outputs": [
    {
     "name": "stdout",
     "output_type": "stream",
     "text": [
      "rectangle at ((0, 0), (20, 100)) with b = 20, h = 100 area = 2000\n",
      "rectangle at ((20, 80), (80, 100)) with b = 60, h = 20 area = 1200\n"
     ]
    }
   ],
   "source": [
    "kwargs1 = {'b': 20,\n",
    "          'h': 100,\n",
    "          'coords': ((0,0), (20,100))}\n",
    "rect1 = pure_shape(\"rectangle\", kwargs1)\n",
    "print(rect1)\n",
    "\n",
    "kwargs2 = {'b': 60,\n",
    "          'h': 20,\n",
    "          'coords': ((20,80), (80,100))}\n",
    "rect2 = pure_shape(\"rectangle\", kwargs2)\n",
    "print(rect2)"
   ]
  },
  {
   "cell_type": "code",
   "execution_count": 6,
   "id": "legislative-prague",
   "metadata": {},
   "outputs": [
    {
     "name": "stdout",
     "output_type": "stream",
     "text": [
      "(25.0, 65.0)\n",
      "3200\n",
      "{'Ix': 2906666.666666667, 'Iy': 1626666.6666666667, 'Jo': 4533333.333333334}\n"
     ]
    }
   ],
   "source": [
    "comp1 = composite_shape(rect1, rect2)\n",
    "print(comp1.getCentroid())\n",
    "print(comp1.getArea())\n",
    "print(comp1.getAreaMoments())"
   ]
  },
  {
   "cell_type": "code",
   "execution_count": 7,
   "id": "naval-jersey",
   "metadata": {},
   "outputs": [
    {
     "name": "stdout",
     "output_type": "stream",
     "text": [
      "Ix = 2.907e6 mm^4, Iy = 1.627e6 mm^4\n"
     ]
    }
   ],
   "source": [
    "areaMoments = comp1.getAreaMoments()\n",
    "Ix = round(areaMoments['Ix']/1e6, 3)\n",
    "Iy = round(areaMoments['Iy']/1e6, 3)\n",
    "print(f\"Ix = {Ix}e6 mm^4, Iy = {Iy}e6 mm^4\")"
   ]
  },
  {
   "cell_type": "code",
   "execution_count": 8,
   "id": "south-sydney",
   "metadata": {},
   "outputs": [
    {
     "name": "stdout",
     "output_type": "stream",
     "text": [
      "Ixy = 1.2e6 mm^4\n"
     ]
    }
   ],
   "source": [
    "Ixy = comp1.getAreaProduct()\n",
    "print(f\"Ixy = {round(Ixy/1e6, 3)}e6 mm^4\")"
   ]
  },
  {
   "cell_type": "code",
   "execution_count": null,
   "id": "fallen-president",
   "metadata": {},
   "outputs": [],
   "source": []
  },
  {
   "cell_type": "code",
   "execution_count": null,
   "id": "desperate-yield",
   "metadata": {},
   "outputs": [],
   "source": []
  },
  {
   "cell_type": "code",
   "execution_count": 9,
   "id": "worldwide-cherry",
   "metadata": {},
   "outputs": [
    {
     "name": "stdout",
     "output_type": "stream",
     "text": [
      "θp = -0.540419500270584\n",
      "{'Ix': 3626666.666666667, 'Iy': 906666.666666667, 'Ixy': 0}\n"
     ]
    }
   ],
   "source": [
    "# Q1 Tut 0\n",
    "kw1 = {'b': 20,'h': 100,'coords': ((0,0), (20,100))}\n",
    "rect1 = pure_shape(\"rectangle\", kw1)\n",
    "kw2 = {'b': 60,'h': 20,'coords': ((20,80), (80,100))}\n",
    "rect2 = pure_shape(\"rectangle\", kw2)\n",
    "\n",
    "compQ1 = composite_shape(rect1, rect2)\n",
    "theta_p = compQ1.getPrincipleAngle()\n",
    "print(f\"θp = {theta_p}\")\n",
    "print(compQ1.inclinedAxis(theta_p))"
   ]
  },
  {
   "cell_type": "code",
   "execution_count": 10,
   "id": "latest-pioneer",
   "metadata": {},
   "outputs": [
    {
     "name": "stdout",
     "output_type": "stream",
     "text": [
      "{'Ix': 616666.6666666666, 'Iy': 3866666.666666666, 'Jo': 4483333.333333333}\n",
      "-1.1\n"
     ]
    }
   ],
   "source": [
    "# Q2 Tut 0\n",
    "kw1 = {'b': 120, 'h': 10, 'coords': ((0, 0), (120, 10))}\n",
    "kw2 = {'b': 10, 'h': 40, 'coords': ((0, 10), (10, 50))}\n",
    "kw3 = {'b': 10, 'h': 40, 'coords': ((110, -40), (120, 0))}\n",
    "kw = (kw1, kw2, kw3)\n",
    "shapes = []\n",
    "for k in kw:\n",
    "    shapes.append(pure_shape(\"rectangle\", k))\n",
    "\n",
    "comp = composite_shape(*shapes)\n",
    "areaMoments = comp.getAreaMoments()\n",
    "print(areaMoments)\n",
    "print(comp.getAreaProduct()/1e6)"
   ]
  },
  {
   "cell_type": "code",
   "execution_count": 11,
   "id": "shaped-western",
   "metadata": {},
   "outputs": [
    {
     "name": "stdout",
     "output_type": "stream",
     "text": [
      "(140.0, 100.0) 1.0666666666666667 26.666666666666668\n",
      "(20.0, 100.0) 26.666666666666668 1.0666666666666667\n",
      "\n",
      "centroid @ (80.0, 100.0)\n",
      "{'Ix': 27733333.333333336, 'Iy': 142933333.33333334, 'Jo': 170666666.6666667}\n",
      "0.0\n",
      "85.33333333333334\n",
      "\n",
      "areaProd@(0, 100) = 0.0\n"
     ]
    }
   ],
   "source": [
    "# Q3 Tut 0\n",
    "kw1 = {'b': 200, 'h': 40, 'coords': ((40, 80), (240, 120))}\n",
    "kw2 = {'b': 40, 'h': 200, 'coords': ((0, 0), (40, 200))}\n",
    "#kw3 = {'b': 80, 'h': 40, 'coords': ((40, 120), (0, 40))}\n",
    "kw = (kw1, kw2)#, kw3)\n",
    "shapes = []\n",
    "for k in kw:\n",
    "    shapes.append(pure_shape(\"rectangle\", k))\n",
    "    aM = shapes[-1].getAreaMoments()\n",
    "    print(shapes[-1].getCentroid(), aM['Ix']/1e6, aM['Iy']/1e6)\n",
    "\n",
    "print()\n",
    "\n",
    "shift_coords = (20, 100)\n",
    "comp = composite_shape(*shapes)\n",
    "print(f\"centroid @ {comp.getCentroid()}\")\n",
    "areaMoments = comp.parallelAxisThmForAreaMoment(shift_coords)\n",
    "print(areaMoments)\n",
    "print(comp.getAreaProduct()/1e6)\n",
    "\n",
    "print(0.5*(areaMoments['Ix'] + areaMoments['Iy'])/1e6)\n",
    "\n",
    "new_coords = (0, 100)\n",
    "print(f\"\\nareaProd@{new_coords} = {comp.parallelAxisThmForAreaProduct(new_coords)}\")"
   ]
  },
  {
   "cell_type": "code",
   "execution_count": 12,
   "id": "economic-council",
   "metadata": {},
   "outputs": [
    {
     "name": "stdout",
     "output_type": "stream",
     "text": [
      "{'Ix': 77909333.33333334, 'Iy': 30037333.333333332, 'Jo': 107946666.66666667}\n",
      "Ixy = 10.752\n",
      "θp = -0.21109333322274648 rad (-12.09 deg)\n",
      "Ix = 80.21333333333334, Iy = 27.73333333333333\n"
     ]
    }
   ],
   "source": [
    "#Q4 Tut 0\n",
    "kw1 = {'b': 120, 'h': 40, 'coords': ((40, 160), (160, 200))}\n",
    "kw2 = {'b': 40, 'h': 200, 'coords': ((0, 0), (40, 200))}\n",
    "kw3 = {'b': 80, 'h': 40, 'coords': ((40, 0), (120, 40))}\n",
    "kw = (kw1, kw2, kw3)\n",
    "\n",
    "shapes = []\n",
    "for k in kw:\n",
    "    shapes.append(pure_shape(\"rectangle\", k))\n",
    "\n",
    "comp = composite_shape(*shapes)\n",
    "print(comp.getAreaMoments())\n",
    "print(\"Ixy =\", comp.getAreaProduct()/1e6)\n",
    "theta_p = comp.getPrincipleAngle()\n",
    "print(f\"θp = {theta_p} rad ({round(theta_p*180/math.pi, 2)} deg)\")\n",
    "areaMoments = comp.inclinedAxis(theta_p)\n",
    "print(f\"Ix = {areaMoments['Ix']/1e6}, Iy = {areaMoments['Iy']/1e6}\")"
   ]
  },
  {
   "cell_type": "code",
   "execution_count": 13,
   "id": "identical-gentleman",
   "metadata": {},
   "outputs": [],
   "source": [
    "A = np.array([[1, 1, 1],\n",
    "              [0, 0.4, 1.2],\n",
    "              [0.8, -1.2, 0.4]])\n",
    "B = np.array([[230],\n",
    "              [184],\n",
    "              [0]])\n",
    "X = np.linalg.inv(A)@B"
   ]
  },
  {
   "cell_type": "code",
   "execution_count": 14,
   "id": "operating-pillow",
   "metadata": {},
   "outputs": [
    {
     "name": "stdout",
     "output_type": "stream",
     "text": [
      "[[ 32.85714286]\n",
      " [ 65.71428571]\n",
      " [131.42857143]]\n"
     ]
    }
   ],
   "source": [
    "print(X)"
   ]
  },
  {
   "cell_type": "code",
   "execution_count": 15,
   "id": "refined-carry",
   "metadata": {},
   "outputs": [
    {
     "data": {
      "text/plain": [
       "2.2399999999999998"
      ]
     },
     "execution_count": 15,
     "metadata": {},
     "output_type": "execute_result"
    }
   ],
   "source": [
    "np.linalg.det(A)"
   ]
  },
  {
   "cell_type": "code",
   "execution_count": 16,
   "id": "abstract-barcelona",
   "metadata": {},
   "outputs": [
    {
     "name": "stdout",
     "output_type": "stream",
     "text": [
      "66.93602178036278\n",
      "133.8720435607257\n",
      "267.7440871214514\n"
     ]
    }
   ],
   "source": [
    "area = math.pi*(12.5)**2\n",
    "for el in X:\n",
    "    print(el[0]/area*1e9/1e6)"
   ]
  },
  {
   "cell_type": "code",
   "execution_count": 17,
   "id": "absent-multiple",
   "metadata": {
    "scrolled": true
   },
   "outputs": [
    {
     "name": "stdout",
     "output_type": "stream",
     "text": [
      "{'Ix': 270833333.3333334, 'Iy': 67708333.33333333, 'Jo': 338541666.6666667}\n",
      "(75.0, 150.0)\n",
      "-0.0\n",
      "xi = 0.24497866312686412 rad (14.036243467926477 deg)\n"
     ]
    }
   ],
   "source": [
    "# 6-109\n",
    "kw1 = {'b': 25, 'h': 300, 'coords': ((0, 0), (25, 300))}\n",
    "kw2 = {'b': 25, 'h': 300, 'coords': ((125, 0), (150, 300))}\n",
    "kw3 = {'b': 100, 'h': 50, 'coords': ((25, 0), (125, 50))}\n",
    "kw4 = {'b': 100, 'h': 50, 'coords': ((25, 150+100), (125, 300))}\n",
    "kw = (kw1, kw2, kw3, kw4)\n",
    "\n",
    "shapes = []\n",
    "for k in kw:\n",
    "    shapes.append(pure_shape(\"rectangle\", k))\n",
    "comp = composite_shape(*shapes)\n",
    "print(comp.getAreaMoments())\n",
    "print(comp.getCentroid())\n",
    "\n",
    "print(comp.getPrincipleAngle())\n",
    "\n",
    "def d_dx(f, x, h):\n",
    "    return (f(x+h) - f(x-h))/2/h\n",
    "\n",
    "Ix = comp.getAreaMoments()['Ix']\n",
    "Iy = comp.getAreaMoments()['Iy']\n",
    "f = lambda th: 2*(2)**0.5*math.cos(th)/Ix - 2*(2)**0.5*math.sin(th)/Iy\n",
    "xi = 0.1 # rad\n",
    "prev_ans = 1000\n",
    "while abs(prev_ans - xi) > 1e-6:\n",
    "    prev_ans = xi\n",
    "    xi = xi - f(xi)/d_dx(f, xi, 1e-6)\n",
    "    \n",
    "print(f\"xi = {xi} rad ({xi*180/(math.pi)} deg)\")"
   ]
  },
  {
   "cell_type": "code",
   "execution_count": 18,
   "id": "straight-tomorrow",
   "metadata": {},
   "outputs": [
    {
     "data": {
      "text/plain": [
       "4.6995"
      ]
     },
     "execution_count": 18,
     "metadata": {},
     "output_type": "execute_result"
    }
   ],
   "source": [
    "round((2*(2)**0.5*150/Ix*10**12 + 2*(2)**0.5*75/Iy*10**12)/1e6, 4)"
   ]
  },
  {
   "cell_type": "code",
   "execution_count": 19,
   "id": "august-persian",
   "metadata": {},
   "outputs": [
    {
     "data": {
      "text/plain": [
       "-3.8006342966079576e-08"
      ]
     },
     "execution_count": 19,
     "metadata": {},
     "output_type": "execute_result"
    }
   ],
   "source": [
    "f(76/180*math.pi)"
   ]
  },
  {
   "cell_type": "code",
   "execution_count": 20,
   "id": "bound-teach",
   "metadata": {},
   "outputs": [
    {
     "data": {
      "text/plain": [
       "1.3264502315156905"
      ]
     },
     "execution_count": 20,
     "metadata": {},
     "output_type": "execute_result"
    }
   ],
   "source": [
    "76/180*math.pi"
   ]
  },
  {
   "cell_type": "code",
   "execution_count": 21,
   "id": "strategic-royal",
   "metadata": {},
   "outputs": [
    {
     "name": "stdout",
     "output_type": "stream",
     "text": [
      "{'Ix': 3.462833555801105e-05, 'Iy': 4.760862400000001e-05, 'Jo': 8.223695955801106e-05}\n",
      "(0.087, 0.09135911602209944)\n"
     ]
    }
   ],
   "source": [
    "#\n",
    "kw1 = {'b': 0.174, 'h': 0.012, 'coords': ((0, 0), (0.174, 0.012))}\n",
    "kw2 = {'b': 0.274, 'h': 0.012, 'coords': ((-0.05, 0.15), (0.224, 0.174))}\n",
    "kw3 = {'b': 0.012, 'h': 0.138, 'coords': ((0, 0.012), (0.012, 0.15))}\n",
    "kw4 = {'b': 0.012, 'h': 0.138, 'coords': ((0+0.162, 0.012), (0.012+0.162, 0.15))}\n",
    "kw = (kw1, kw2, kw3, kw4)\n",
    "\n",
    "shapes = []\n",
    "for k in kw:\n",
    "    shapes.append(pure_shape(\"rectangle\", k))\n",
    "comp = composite_shape(*shapes)\n",
    "print(comp.getAreaMoments())\n",
    "print(comp.getCentroid())"
   ]
  },
  {
   "cell_type": "code",
   "execution_count": null,
   "id": "moderate-gambling",
   "metadata": {},
   "outputs": [],
   "source": []
  },
  {
   "cell_type": "code",
   "execution_count": null,
   "id": "miniature-award",
   "metadata": {},
   "outputs": [],
   "source": []
  },
  {
   "cell_type": "markdown",
   "id": "accredited-timber",
   "metadata": {},
   "source": [
    "## Next part of course"
   ]
  },
  {
   "cell_type": "code",
   "execution_count": 22,
   "id": "upper-domain",
   "metadata": {},
   "outputs": [],
   "source": [
    "T = np.array([[5, 0, 0],\n",
    "              [0, -6, -12],\n",
    "              [0, -12, 1]])\n",
    "w, v = np.linalg.eig(T) # w = eigenvalues, v = eigenvectors"
   ]
  },
  {
   "cell_type": "code",
   "execution_count": 23,
   "id": "intense-person",
   "metadata": {},
   "outputs": [
    {
     "name": "stdout",
     "output_type": "stream",
     "text": [
      "[ 10. -15.   5.]\n"
     ]
    }
   ],
   "source": [
    "print(w)"
   ]
  },
  {
   "cell_type": "code",
   "execution_count": 194,
   "id": "demonstrated-wrist",
   "metadata": {},
   "outputs": [],
   "source": [
    "class stress_tensor(object):\n",
    "    def __init__(self, T):\n",
    "        shape = T.shape\n",
    "        assert shape[0] == shape[1] and len(shape) == 2, \"Array must be 2D or 3D, and must be square\"\n",
    "        self.dim = shape[0]\n",
    "        self.T = T\n",
    "        \n",
    "        self.principle_stress = self.__class__.computePrincipleStress(self)\n",
    "        self.max_shear = self.__class__.computeMaxShear(self)\n",
    "        self.max_inplane_shear = self.__class__.computeMaxInplaneShear(self)\n",
    "    \n",
    "#         if self.dim == 2:\n",
    "#             self.max_inplane_shear = self.__class__.computeMaxInplaneShear(self)\n",
    "#         elif self.dim == 3:\n",
    "#             self.max_inplane_shear = self.max_shear\n",
    "    \n",
    "    def getT(self):\n",
    "        return self.T\n",
    "    \n",
    "    def getPrincipleStress(self):\n",
    "        return self.principle_stress\n",
    "    \n",
    "    def computePrincipleStress(self):\n",
    "#         if self.dim == 2:\n",
    "#             a = (self.T[0][0] + self.T[1][1])/2\n",
    "#             b = self.__class__.computeMaxInplaneShear(self)\n",
    "#             L = [a+b, a-b]\n",
    "#             L.sort()\n",
    "#             L.reverse()\n",
    "#             principle_stress = np.zeros((2, 2))\n",
    "#             principle_stress[0][0] = L[0]\n",
    "#             principle_stress[1][1] = L[1]\n",
    "#             print(f\"Fuck {principle_stress}\")\n",
    "#             return principle_stress\n",
    "        \n",
    "        w, v = np.linalg.eig(self.T)\n",
    "        w.sort()\n",
    "        w = np.flip(w)\n",
    "        principle_stress = np.zeros(self.T.shape)\n",
    "        \n",
    "        for i in range(0, self.T.shape[0]):\n",
    "            principle_stress[i][i] = round(w[i], 12)\n",
    "        return principle_stress\n",
    "    \n",
    "    def getMaxShear(self):\n",
    "        return self.max_shear\n",
    "    \n",
    "    def computeMaxShear(self):\n",
    "        p_s = self.principle_stress\n",
    "        if self.dim == 2:\n",
    "            p_s = np.c_[p_s, np.zeros((2,1))]\n",
    "            p_s = np.vstack([p_s, np.zeros(3)])\n",
    "            # print(p_s)\n",
    "        \n",
    "        L = []\n",
    "        for i in range(3):\n",
    "            if i == 2:\n",
    "                L.append(abs(p_s[0][0] - p_s[-1][-1])/2)\n",
    "            else:\n",
    "                L.append(abs(p_s[i][i] - p_s[i+1][i+1])/2)\n",
    "                # print(L)\n",
    "        \n",
    "        return max(L)\n",
    "    \n",
    "    def getMaxInplaneShear(self):\n",
    "        return self.max_inplane_shear\n",
    "    \n",
    "    def computeMaxInplaneShear(self):\n",
    "        # print(f\"self.T[0][0] = {self.T[0][0]}\\nself.T[1][1] = {self.T[1][1]}\\nself.T[0][1] = {self.T[0][1]}\")\n",
    "        a = (((self.T[0][0] - self.T[1][1])/2)**2 + self.T[0][1]**2)**0.5\n",
    "        return a"
   ]
  },
  {
   "cell_type": "code",
   "execution_count": 200,
   "id": "appreciated-carpet",
   "metadata": {},
   "outputs": [
    {
     "name": "stdout",
     "output_type": "stream",
     "text": [
      "[[ 10.   0.   0.]\n",
      " [  0.   5.   0.]\n",
      " [  0.   0. -15.]]\n",
      "12.5\n",
      "5.5\n"
     ]
    }
   ],
   "source": [
    "tens_T = stress_tensor(T)\n",
    "print(tens_T.getPrincipleStress())\n",
    "print(tens_T.getMaxShear())\n",
    "print(tens_T.getMaxInplaneShear())"
   ]
  },
  {
   "cell_type": "code",
   "execution_count": 196,
   "id": "amazing-functionality",
   "metadata": {},
   "outputs": [
    {
     "name": "stdout",
     "output_type": "stream",
     "text": [
      "[[ 7.53320659  0.        ]\n",
      " [ 0.         -1.23320659]]\n",
      "4.383206588789\n",
      "4.383206588788624\n"
     ]
    }
   ],
   "source": [
    "tens_G = stress_tensor(np.array([[4, 4.3],[4.3, 2.3]]))\n",
    "print(tens_G.getPrincipleStress())\n",
    "print(tens_G.getMaxShear())\n",
    "print(tens_G.getMaxInplaneShear())"
   ]
  },
  {
   "cell_type": "code",
   "execution_count": 197,
   "id": "impressed-coordinate",
   "metadata": {},
   "outputs": [
    {
     "name": "stdout",
     "output_type": "stream",
     "text": [
      "[[9 0]\n",
      " [0 4]]\n",
      "[[9 0 1]\n",
      " [0 4 2]]\n",
      "[[9 0]\n",
      " [0 4]\n",
      " [1 2]]\n"
     ]
    }
   ],
   "source": [
    "f = np.array([[9, 0],\n",
    "              [0, 4]])\n",
    "print(f)\n",
    "g = np.c_[f, [[1], [2]]]\n",
    "print(g)\n",
    "h = np.vstack([f, [[1, 2]]])\n",
    "print(h)"
   ]
  },
  {
   "cell_type": "code",
   "execution_count": 198,
   "id": "rough-supplier",
   "metadata": {},
   "outputs": [
    {
     "name": "stdout",
     "output_type": "stream",
     "text": [
      "[[ 135.54532182    0.            0.        ]\n",
      " [   0.           52.57249085    0.        ]\n",
      " [   0.            0.         -168.11781267]]\n",
      "151.831567247144\n",
      "141.50971698084905\n"
     ]
    }
   ],
   "source": [
    "H = np.array([[50, 120, -40],\n",
    "              [120, -100, 0],\n",
    "              [-40, 0, 70]])\n",
    "tens_H = stress_tensor(H)\n",
    "print(tens_H.getPrincipleStress())\n",
    "print(tens_H.getMaxShear())\n",
    "print(tens_H.getMaxInplaneShear())"
   ]
  },
  {
   "cell_type": "code",
   "execution_count": 199,
   "id": "julian-anderson",
   "metadata": {},
   "outputs": [
    {
     "name": "stdout",
     "output_type": "stream",
     "text": [
      "[[12.  0.]\n",
      " [ 0.  8.]]\n",
      "2.0\n",
      "6.0\n"
     ]
    }
   ],
   "source": [
    "I = np.array([[10, 2],\n",
    "              [2, 10]])\n",
    "\n",
    "tens_I = stress_tensor(I)\n",
    "print(tens_I.getPrincipleStress())\n",
    "print(tens_I.getMaxInplaneShear())\n",
    "print(tens_I.getMaxShear())"
   ]
  },
  {
   "cell_type": "code",
   "execution_count": null,
   "id": "handy-stopping",
   "metadata": {},
   "outputs": [],
   "source": []
  }
 ],
 "metadata": {
  "kernelspec": {
   "display_name": "Python 3",
   "language": "python",
   "name": "python3"
  },
  "language_info": {
   "codemirror_mode": {
    "name": "ipython",
    "version": 3
   },
   "file_extension": ".py",
   "mimetype": "text/x-python",
   "name": "python",
   "nbconvert_exporter": "python",
   "pygments_lexer": "ipython3",
   "version": "3.8.8"
  }
 },
 "nbformat": 4,
 "nbformat_minor": 5
}
